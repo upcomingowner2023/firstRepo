{
  "nbformat": 4,
  "nbformat_minor": 0,
  "metadata": {
    "colab": {
      "provenance": [],
      "authorship_tag": "ABX9TyMj7uRj+8H05dNhyKffrObO",
      "include_colab_link": true
    },
    "kernelspec": {
      "name": "python3",
      "display_name": "Python 3"
    },
    "language_info": {
      "name": "python"
    }
  },
  "cells": [
    {
      "cell_type": "markdown",
      "metadata": {
        "id": "view-in-github",
        "colab_type": "text"
      },
      "source": [
        "<a href=\"https://colab.research.google.com/github/upcomingowner2023/firstRepo/blob/master/Untitled0.ipynb\" target=\"_parent\"><img src=\"https://colab.research.google.com/assets/colab-badge.svg\" alt=\"Open In Colab\"/></a>"
      ]
    },
    {
      "cell_type": "code",
      "execution_count": 2,
      "metadata": {
        "colab": {
          "base_uri": "https://localhost:8080/"
        },
        "id": "p1AmwqBjrHJo",
        "outputId": "2e212e4d-8097-4dbe-8d96-ff138fc6e9e7"
      },
      "outputs": [
        {
          "output_type": "stream",
          "name": "stdout",
          "text": [
            "Looking in indexes: https://pypi.org/simple, https://us-python.pkg.dev/colab-wheels/public/simple/\n",
            "Requirement already satisfied: requests in /usr/local/lib/python3.8/dist-packages (2.23.0)\n",
            "Requirement already satisfied: idna<3,>=2.5 in /usr/local/lib/python3.8/dist-packages (from requests) (2.10)\n",
            "Requirement already satisfied: chardet<4,>=3.0.2 in /usr/local/lib/python3.8/dist-packages (from requests) (3.0.4)\n",
            "Requirement already satisfied: certifi>=2017.4.17 in /usr/local/lib/python3.8/dist-packages (from requests) (2022.9.24)\n",
            "Requirement already satisfied: urllib3!=1.25.0,!=1.25.1,<1.26,>=1.21.1 in /usr/local/lib/python3.8/dist-packages (from requests) (1.24.3)\n",
            "Enter the Name of Any City >>  New York\n",
            "Searching......\n",
            "\n",
            "New York, NY\n",
            "Thursday 2:00 AM\n",
            "Clear with periodic clouds\n",
            "54°C\n"
          ]
        }
      ],
      "source": [
        "!pip install requests\n",
        "from bs4 import BeautifulSoup\n",
        "import requests\n",
        "headers = {'User-Agent': 'Mozilla/5.0 (Windows NT 10.0; Win64; x64) AppleWebKit/537.36 (KHTML, like Gecko) Chrome/58.0.3029.110 Safari/537.3'}\n",
        "\n",
        "def weather(city):\n",
        "    city=city.replace(\" \",\"+\")\n",
        "    res = requests.get(f'https://www.google.com/search?q={city}&oq={city}&aqs=chrome.0.35i39l2j0l4j46j69i60.6128j1j7&sourceid=chrome&ie=UTF-8',headers=headers)\n",
        "    print(\"Searching......\\n\")\n",
        "    soup = BeautifulSoup(res.text,'html.parser')   \n",
        "    location = soup.select('#wob_loc')[0].getText().strip()  \n",
        "    time = soup.select('#wob_dts')[0].getText().strip()       \n",
        "    info = soup.select('#wob_dc')[0].getText().strip() \n",
        "    weather = soup.select('#wob_tm')[0].getText().strip()\n",
        "    print(location)\n",
        "    print(time)\n",
        "    print(info)\n",
        "    print(weather+\"°C\") \n",
        "\n",
        "city=input(\"Enter the Name of Any City >>  \")\n",
        "city=city+\" weather\"\n",
        "weather(city)"
      ]
    },
    {
      "cell_type": "code",
      "source": [
        "import requests\n",
        "from pprint import pprint\n",
        "API_Key = \"ee7fae61916d39577347cd56b8a34f47\"\n",
        "location = input(\"Enter Your Desired Location: \")\n",
        "weather_url = f\"http://api.openweathermap.org/data/2.5/weather?q={location}&appid=\"\n",
        "final_url = weather_url + API_Key\n",
        "weather_data = requests.get(final_url).json()\n",
        "pprint(weather_data)"
      ],
      "metadata": {
        "colab": {
          "base_uri": "https://localhost:8080/"
        },
        "id": "kPihdsIorIE3",
        "outputId": "c8cb206e-c8bc-482b-adf2-949a36a23fe8"
      },
      "execution_count": 1,
      "outputs": [
        {
          "output_type": "stream",
          "name": "stdout",
          "text": [
            "Enter Your Desired Location: New York\n",
            "{'base': 'stations',\n",
            " 'clouds': {'all': 0},\n",
            " 'cod': 200,\n",
            " 'coord': {'lat': 40.7143, 'lon': -74.006},\n",
            " 'dt': 1670490640,\n",
            " 'id': 5128581,\n",
            " 'main': {'feels_like': 282.65,\n",
            "          'humidity': 75,\n",
            "          'pressure': 1022,\n",
            "          'temp': 283.59,\n",
            "          'temp_max': 284.81,\n",
            "          'temp_min': 281.55},\n",
            " 'name': 'New York',\n",
            " 'sys': {'country': 'US',\n",
            "         'id': 2008101,\n",
            "         'sunrise': 1670501253,\n",
            "         'sunset': 1670534918,\n",
            "         'type': 2},\n",
            " 'timezone': -18000,\n",
            " 'visibility': 10000,\n",
            " 'weather': [{'description': 'clear sky',\n",
            "              'icon': '01n',\n",
            "              'id': 800,\n",
            "              'main': 'Clear'}],\n",
            " 'wind': {'deg': 320, 'speed': 5.66}}\n"
          ]
        }
      ]
    }
  ]
}